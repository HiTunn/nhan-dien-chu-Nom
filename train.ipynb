{
  "cells": [
    {
      "cell_type": "code",
      "execution_count": 2,
      "metadata": {
        "colab": {
          "base_uri": "https://localhost:8080/"
        },
        "id": "7LSCool-i5pT",
        "outputId": "40fa3250-e97c-47bd-a49c-73200b2aeafc"
      },
      "outputs": [
        {
          "name": "stdout",
          "output_type": "stream",
          "text": [
            "Mounted at /content/drive/\n"
          ]
        }
      ],
      "source": [
        "from google.colab import drive \n",
        "drive.mount ('/content/drive/')"
      ]
    },
    {
      "cell_type": "code",
      "execution_count": 3,
      "metadata": {
        "colab": {
          "base_uri": "https://localhost:8080/"
        },
        "id": "3JzzvS8kjnOV",
        "outputId": "a1372a6c-a6a1-42d4-82c9-cac17e749655"
      },
      "outputs": [
        {
          "name": "stdout",
          "output_type": "stream",
          "text": [
            "/content/drive/MyDrive/doan1/main\n"
          ]
        }
      ],
      "source": [
        "%cd /content/drive/MyDrive/doan1/main"
      ]
    },
    {
      "cell_type": "code",
      "execution_count": 4,
      "metadata": {
        "id": "PPp-lDG6rgx-"
      },
      "outputs": [],
      "source": [
        "#train data \n",
        "from os import listdir\n",
        "import cv2\n",
        "import numpy as np\n",
        "import pickle\n",
        "from sklearn.preprocessing import OneHotEncoder\n",
        "from sklearn.model_selection import train_test_split\n",
        "from keras.applications.vgg16 import VGG16\n",
        "from keras.layers import Input, Flatten, Dense, Dropout\n",
        "from keras.models import Model\n",
        "from keras.callbacks import ModelCheckpoint\n",
        "import matplotlib.pyplot as plt\n",
        "import random\n",
        "from keras.preprocessing.image import ImageDataGenerator"
      ]
    },
    {
      "cell_type": "code",
      "execution_count": 5,
      "metadata": {
        "id": "bnnem82RrkI3"
      },
      "outputs": [],
      "source": [
        "raw_folder = \"data/\"\n",
        "def save_data(raw_folder=raw_folder):\n",
        "\n",
        "    dest_size = (128, 128)\n",
        "    print(\"Bắt đầu xử lý ảnh...\")\n",
        "\n",
        "    pixels = []\n",
        "    labels = []\n",
        "\n",
        "    # Lặp qua các folder con trong thư mục raw\n",
        "    for folder in listdir(raw_folder):\n",
        "        if folder!='.DS_Store':\n",
        "            print(\"Folder=\",folder)\n",
        "            # Lặp qua các file trong từng thư mục chứa các ảnh\n",
        "            for file in listdir(raw_folder  + folder):\n",
        "                if file!='.DS_Store':\n",
        "                    print(\"File=\", file)\n",
        "                    pixels.append( cv2.resize(cv2.imread(raw_folder  + folder +\"/\" + file),dsize=(128,128)))\n",
        "                    labels.append( folder)\n",
        "\n",
        "    pixels = np.array(pixels)\n",
        "    labels = np.array(labels)#.reshape(-1,1)\n",
        "\n",
        "    from sklearn.preprocessing import LabelBinarizer\n",
        "    encoder = LabelBinarizer()\n",
        "    labels = encoder.fit_transform(labels)\n",
        "    print(labels)\n",
        "\n",
        "    file = open('pix.data', 'wb')\n",
        "    # dump information to that file\n",
        "    pickle.dump((pixels,labels), file)\n",
        "    # close the file\n",
        "    file.close()\n",
        "\n",
        "    return\n"
      ]
    },
    {
      "cell_type": "code",
      "execution_count": 6,
      "metadata": {
        "id": "rF1Ut29Ur7q0"
      },
      "outputs": [],
      "source": [
        "def load_data():\n",
        "    file = open('pix.data', 'rb')\n",
        "\n",
        "    # dump information to that file\n",
        "    (pixels, labels) = pickle.load(file)\n",
        "\n",
        "    # close the file\n",
        "    file.close()\n",
        "\n",
        "    print(pixels.shape)\n",
        "    print(labels.shape)\n",
        "\n",
        "\n",
        "    return pixels, labels"
      ]
    },
    {
      "cell_type": "code",
      "execution_count": null,
      "metadata": {
        "id": "4_9udnOmiyRY"
      },
      "outputs": [],
      "source": [
        "save_data()"
      ]
    },
    {
      "cell_type": "code",
      "execution_count": 7,
      "metadata": {
        "colab": {
          "base_uri": "https://localhost:8080/"
        },
        "id": "uuG_3tb4sEFZ",
        "outputId": "c1483b85-a759-4f2e-c29d-0b03f4332a8e"
      },
      "outputs": [
        {
          "name": "stdout",
          "output_type": "stream",
          "text": [
            "(5005, 128, 128, 3)\n",
            "(5005, 5)\n"
          ]
        }
      ],
      "source": [
        "\n",
        "X,y = load_data()\n",
        "# 20% test, 80% train \n",
        "X_train, X_test, y_train, y_test = train_test_split( X, y, test_size=0.2, random_state=100)\n"
      ]
    },
    {
      "cell_type": "code",
      "execution_count": null,
      "metadata": {
        "colab": {
          "base_uri": "https://localhost:8080/"
        },
        "id": "KC3sZPdw5BsF",
        "outputId": "d4a9435c-d4b5-4016-d8d0-05a405308356"
      },
      "outputs": [
        {
          "name": "stdout",
          "output_type": "stream",
          "text": [
            "(4004, 128, 128, 3)\n",
            "(4004, 5)\n",
            "(1001, 128, 128, 3)\n",
            "(1001, 5)\n"
          ]
        }
      ],
      "source": [
        "print(X_train.shape)\n",
        "print(y_train.shape)\n",
        "print(X_test.shape)\n",
        "print(y_test.shape)"
      ]
    },
    {
      "cell_type": "code",
      "execution_count": 8,
      "metadata": {
        "id": "GPDIPifpvrfR"
      },
      "outputs": [],
      "source": [
        "def get_model():\n",
        "    model_vgg16_conv = VGG16(weights='imagenet', include_top=False)\n",
        "\n",
        "    # đóng băng các layer VGG16 \n",
        "    for layer in model_vgg16_conv.layers:\n",
        "        layer.trainable = False\n",
        "\n",
        "    # Tạo model\n",
        "    input = Input(shape=(128, 128, 3), name='image_input')\n",
        "    output_vgg16_conv = model_vgg16_conv(input)\n",
        "\n",
        "    # Thêm các layer Fully Connected và Dropout\n",
        "    x = Flatten(name='flatten')(output_vgg16_conv)\n",
        "    x = Dense(4096, activation='relu', name='fc1')(x)\n",
        "    x = Dropout(0.5)(x)\n",
        "    x = Dense(4096, activation='relu', name='fc2')(x)\n",
        "    x = Dropout(0.5)(x)\n",
        "    x = Dense(4096, activation='relu', name='fc3')(x)\n",
        "    x = Dropout(0.5)(x)\n",
        "    x = Dense(4096, activation='relu', name='fc4')(x)\n",
        "    x = Dropout(0.5)(x)\n",
        "    x = Dense(4096, activation='relu', name='fc5')(x)\n",
        "    x = Dropout(0.5)(x)\n",
        "    x = Dense(5, activation='softmax', name='predictions')(x)\n",
        "\n",
        "    # Compile\n",
        "    my_model = Model(inputs=input, outputs=x)\n",
        "    my_model.compile(loss='categorical_crossentropy', optimizer='adam', metrics=['accuracy'])\n",
        "\n",
        "    return my_model\n",
        "\n",
        "\n"
      ]
    },
    {
      "cell_type": "code",
      "execution_count": null,
      "metadata": {
        "id": "cGSVtKcljtBc"
      },
      "outputs": [],
      "source": [
        "vggmodel = get_model()\n",
        "filepath=\"weights-{epoch:02d}-{val_accuracy:.2f}.hdf5\"\n",
        "checkpoint = ModelCheckpoint(filepath, monitor='val_accuracy', verbose=1, save_best_only=True, mode='max')\n",
        "callbacks_list = [checkpoint]\n",
        "\n",
        "# construct the training image generator for data augmentation\n",
        "aug = ImageDataGenerator(rotation_range=20, zoom_range=0.1,\n",
        "    rescale=1./255,\n",
        "\twidth_shift_range=0.1,\n",
        "    height_shift_range=0.1,\n",
        "\thorizontal_flip=True,\n",
        "    brightness_range=[0.2,1.5], fill_mode=\"nearest\")\n",
        "\n",
        "aug_val = ImageDataGenerator(rescale=1./255)\n",
        "\n",
        "vgghist=vggmodel.fit(aug.flow(X_train, y_train, batch_size=200),\n",
        "                               epochs=100,# steps_per_epoch=len(X_train)//64,\n",
        "                               validation_data=aug.flow(X_test,y_test,\n",
        "                               batch_size=200),\n",
        "                               callbacks=callbacks_list)\n",
        "\n",
        "vggmodel.save(\"vggmodel.h5\")\n",
        "\n",
        "\n",
        "\n",
        "\n",
        "\n",
        "\n",
        "\n",
        "def plot_model_history(model_history, acc='accuracy', val_acc='val_accuracy'):\n",
        "    fig, axs = plt.subplots(1, 2, figsize=(15, 5))\n",
        "    axs[0].plot(range(1, len(model_history.history[acc]) + 1), model_history.history[acc])\n",
        "    axs[0].plot(range(1, len(model_history.history[val_acc]) + 1), model_history.history[val_acc])\n",
        "    axs[0].set_title('Model Accuracy')\n",
        "    axs[0].set_ylabel('Accuracy')\n",
        "    axs[0].set_xlabel('Epoch')\n",
        "    axs[0].set_xticks(np.arange(1, len(model_history.history[acc]) + 1), len(model_history.history[acc]) / 10)\n",
        "    axs[0].legend(['train', 'val'], loc='best')\n",
        "    axs[1].plot(range(1, len(model_history.history['loss']) + 1), model_history.history['loss'])\n",
        "    axs[1].plot(range(1, len(model_history.history['val_loss']) + 1), model_history.history['val_loss'])\n",
        "    axs[1].set_title('Model Loss')\n",
        "    axs[1].set_ylabel('Loss')\n",
        "    axs[1].set_xlabel('Epoch')\n",
        "    axs[1].set_xticks(np.arange(1, len(model_history.history['loss']) + 1), len(model_history.history['loss']) / 10)\n",
        "    axs[1].legend(['train', 'val'], loc='best')\n",
        "    #plt.show()\n",
        "    plt.savefig('roc.png')\n"
      ]
    }
  ],
  "metadata": {
    "accelerator": "GPU",
    "colab": {
      "collapsed_sections": [],
      "name": "train.ipynb",
      "provenance": []
    },
    "gpuClass": "standard",
    "kernelspec": {
      "display_name": "Python 3",
      "name": "python3"
    },
    "language_info": {
      "name": "python"
    }
  },
  "nbformat": 4,
  "nbformat_minor": 0
}
